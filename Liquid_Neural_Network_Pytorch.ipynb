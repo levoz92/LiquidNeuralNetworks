{
  "nbformat": 4,
  "nbformat_minor": 0,
  "metadata": {
    "colab": {
      "provenance": []
    },
    "kernelspec": {
      "name": "python3",
      "display_name": "Python 3"
    },
    "language_info": {
      "name": "python"
    }
  },
  "cells": [
    {
      "cell_type": "code",
      "execution_count": null,
      "metadata": {
        "id": "PlYXTlzrtwTv"
      },
      "outputs": [],
      "source": [
        "!pip3 install torch"
      ]
    },
    {
      "cell_type": "code",
      "source": [
        "import torch\n",
        "import numpy as np\n",
        "import tensorflow as tf\n",
        "import torch.nn as nn\n",
        "import torch.optim as optim"
      ],
      "metadata": {
        "id": "5KgQHDn-t2pc"
      },
      "execution_count": 6,
      "outputs": []
    },
    {
      "cell_type": "markdown",
      "source": [
        "Load CIFAR-10 dataset"
      ],
      "metadata": {
        "id": "2vvHoGblwKDk"
      }
    },
    {
      "cell_type": "code",
      "source": [
        "(x_train, y_train), (x_test, y_test) = tf.keras.datasets.cifar10.load_data()\n",
        "x_train, x_test = x_train / 255.0, x_test / 255.0  # Normalizing pixel values to be between 0 and 1"
      ],
      "metadata": {
        "colab": {
          "base_uri": "https://localhost:8080/"
        },
        "id": "MY7yuz00wORT",
        "outputId": "eabaedb3-abe8-464a-92cf-0b6433153498"
      },
      "execution_count": 8,
      "outputs": [
        {
          "output_type": "stream",
          "name": "stdout",
          "text": [
            "Downloading data from https://www.cs.toronto.edu/~kriz/cifar-10-python.tar.gz\n",
            "\u001b[1m170498071/170498071\u001b[0m \u001b[32m━━━━━━━━━━━━━━━━━━━━\u001b[0m\u001b[37m\u001b[0m \u001b[1m2s\u001b[0m 0us/step\n"
          ]
        }
      ]
    },
    {
      "cell_type": "markdown",
      "source": [
        "Differential Equation for the Liquid State"
      ],
      "metadata": {
        "id": "cItREFtLuC6C"
      }
    },
    {
      "cell_type": "code",
      "source": [
        "class LiquidTimeStep(nn.Module):\n",
        "    def __init__(self, input_size, hidden_size):\n",
        "        super(LiquidTimeStep, self).__init__()\n",
        "        self.input_size = input_size\n",
        "        self.hidden_size = hidden_size\n",
        "        self.W_in = nn.Linear(input_size, hidden_size)\n",
        "        self.W_h = nn.Linear(hidden_size, hidden_size)\n",
        "        self.tau = nn.Parameter(torch.ones(hidden_size))\n",
        "\n",
        "    def forward(self, x, h):\n",
        "        dx = torch.tanh(self.W_in(x) + self.W_h(h))\n",
        "        h_new = h + (dx - h) / self.tau\n",
        "        return h_new"
      ],
      "metadata": {
        "id": "UHIlz40SuAxN"
      },
      "execution_count": 3,
      "outputs": []
    },
    {
      "cell_type": "markdown",
      "source": [
        "LNN"
      ],
      "metadata": {
        "id": "QotV4ffUusBS"
      }
    },
    {
      "cell_type": "code",
      "source": [
        "class LNN(nn.Module):\n",
        "    def __init__(self, input_size, hidden_size, output_size):\n",
        "        self.W_in = np.random.randn(input_size, hidden_size)\n",
        "        self.W_hid = np.random.randn(hidden_size, hidden_size)\n",
        "        self.W_out = np.random.randn(hidden_size, output_size)\n",
        "        self.bias_hid = np.zeros(hidden_size)\n",
        "        self.bias_out = np.zeros(output_size)\n",
        "        self.time_constant = 0.1\n",
        "\n",
        "    def forward(self, x):\n",
        "        hidden_state = np.zeros(self.W_hid.shape[1])\n",
        "        outputs = []\n",
        "\n",
        "        for t in range(len(x)):\n",
        "            hidden_state = (1 - self.time_constant) * hidden_state + self.time_constant * np.tanh(np.dot(x[t], self.W_in) + np.dot(hidden_state, self.W_hid) + self.bias_hid)\n",
        "\n",
        "            output = np.dot(hidden_state, self.W_out) + self.bias_out\n",
        "\n",
        "            exp_output = np.exp(output - np.max(output))  # for numerical stability\n",
        "            softmax_output = exp_output / np.sum(exp_output)\n",
        "\n",
        "            outputs.append(softmax_output)\n",
        "\n",
        "        return np.array(outputs)"
      ],
      "metadata": {
        "id": "3O270WLKurJC"
      },
      "execution_count": 9,
      "outputs": []
    },
    {
      "cell_type": "markdown",
      "source": [
        "Example Usage"
      ],
      "metadata": {
        "id": "9bJP8gcwvXZK"
      }
    },
    {
      "cell_type": "code",
      "source": [
        "x_train_flattened = x_train.reshape(x_train.shape[0], -1)  # Shape: (N, 3072)\n",
        "x_test_flattened = x_test.reshape(x_test.shape[0], -1)    # Shape: (N, 3072)\n",
        "\n",
        "input_size = 32 * 32 * 3\n",
        "hidden_size = 20\n",
        "output_size = 10\n",
        "net = LNN(input_size, hidden_size, output_size)\n",
        "\n",
        "predictions = net.forward(x_train_flattened[:10])\n",
        "\n",
        "print(predictions)"
      ],
      "metadata": {
        "id": "lgJHtBQlvWNW"
      },
      "execution_count": null,
      "outputs": []
    },
    {
      "cell_type": "code",
      "source": [],
      "metadata": {
        "id": "u5VouxuYvpGP"
      },
      "execution_count": null,
      "outputs": []
    }
  ]
}